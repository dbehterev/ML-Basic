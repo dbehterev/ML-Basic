{
 "cells": [
  {
   "cell_type": "markdown",
   "id": "e2450ffa",
   "metadata": {},
   "source": [
    "# Домашнее задание: Функции"
   ]
  },
  {
   "cell_type": "markdown",
   "id": "8d062500",
   "metadata": {},
   "source": [
    "## Задание 1: Конвертер регистров\n",
    "\n",
    "Написать функцию, которая будет переводить snake_case в PascalCase и наоборот. \n",
    "\n",
    "Функция должна сама определять - какой формат ей передали. Можно добавить ключевой аргумент, который будет принудительно возвращать один из форматов.\n",
    "\n",
    "<br>\n",
    "\n",
    "**Примеры:**\n",
    "* `otus_course     -> OtusCourse`\n",
    "* `PythonIsTheBest -> python_is_the_best`\n",
    "\n"
   ]
  },
  {
   "cell_type": "code",
   "execution_count": null,
   "id": "ec0075f5",
   "metadata": {},
   "outputs": [
    {
     "name": "stdout",
     "output_type": "stream",
     "text": [
      "OtusCourseBasic\n",
      "otus_course_basic\n",
      "OtusCourseBasic\n",
      "python_is_the_best\n",
      "PythonIsTheBest\n",
      "python_is_the_best\n"
     ]
    }
   ],
   "source": [
    "def formatTransformer(s: str, type: str) -> str:\n",
    "    \n",
    "    s = str(s).strip()      # подготовим строку\n",
    "        \n",
    "    if len(s) == 0:         # выведем подсказку пользователю, если он ничего не ввел\n",
    "        print('usage: \\nstr: string to convert\\ntype: \"toPascalCase|toSnakeCase\"\\n')\n",
    "        return ''\n",
    "\n",
    "    if len(type) == 0:          # автоопределение формата, если он не задан\n",
    "        if s.find('_') != -1:   # если есть символ подчеркивания, то нужно сконвертировать в Pascal\n",
    "            type = 'toPascalCase'\n",
    "        else:\n",
    "            type = 'toSnakeCase'\n",
    "     \n",
    "    result = ''\n",
    "        \n",
    "    if type == 'toPascalCase':  \n",
    "        capitalize_next_character = False\n",
    "        for index, character in enumerate(s):                       \n",
    "            if capitalize_next_character:\n",
    "                result += character.upper()\n",
    "                capitalize_next_character = False\n",
    "            elif character.find('_') != -1:           # есть символ подчеркивания\n",
    "                capitalize_next_character = True    # взведем флаг, что след.символ д.б. строчным\n",
    "                continue\n",
    "            elif character.islower():\n",
    "                if index == 0:\n",
    "                    result += character.upper()\n",
    "                else:\n",
    "                    result += character\n",
    "            else:\n",
    "                result += character\n",
    "    else:\n",
    "        for index, character in enumerate(s):                        # `PythonIsTheBest -> python_is_the_best`\n",
    "            if character.isupper():\n",
    "                if index == 0:\n",
    "                    result += character.lower()\n",
    "                else:\n",
    "                    result += '_' + character.lower()\n",
    "            else:\n",
    "                result += character\n",
    "        \n",
    "    return result\n",
    "\n",
    "print(formatTransformer('otus_course_basic ', ''))              # 'OtusCourseBasic'\n",
    "print(formatTransformer('otus_course_basic ', 'toSnakeCase'))   # otus_course_basic\n",
    "print(formatTransformer('otus_course_basic ', 'toPascalCase'))  # OtusCourseBasic\n",
    "print(formatTransformer('PythonIsTheBest ', ''))                # 'python_is_the_best'\n",
    "print(formatTransformer('PythonIsTheBest ', 'toPascalCase'))    # PythonIsTheBest\n",
    "print(formatTransformer('PythonIsTheBest ', 'toSnakeCase'))     # python_is_the_best"
   ]
  },
  {
   "cell_type": "markdown",
   "id": "b8253fb9",
   "metadata": {},
   "source": [
    "## Задание 2: Проверка валидности даты\n",
    "\n",
    "Написать функцию проверяющую валидность введенной даты.\n",
    "\n",
    "<br>\n",
    "\n",
    "**Примеры:**\n",
    "* `29.02.2000 -> True`\n",
    "* `29.02.2001 -> False`\n",
    "* `31.04.1962 -> False`\n",
    "\n"
   ]
  },
  {
   "cell_type": "code",
   "execution_count": null,
   "id": "e7f4e9c8",
   "metadata": {},
   "outputs": [
    {
     "name": "stdout",
     "output_type": "stream",
     "text": [
      "True\n",
      "False\n",
      "False\n"
     ]
    }
   ],
   "source": [
    "# по условию задачи не сказано, что не могу пользоваться внешними функциями\n",
    "import datetime         # pip install datetime\n",
    "def checkDateValidity(date: str) -> bool:\n",
    "    \n",
    "    date = str(date).strip()      # подготовим строку\n",
    "        \n",
    "    if len(date) == 0:              # выведем подсказку пользователю, если он ничего не ввел\n",
    "        print('usage: \\ndate: date in format DD.MM.YYYY\\n')\n",
    "        return False\n",
    "    \n",
    "    date_list = date.split('.')\n",
    "    \n",
    "    if len(date_list) < 3:          # кол-во элементов д.б. 3. Иначе - ошибка\n",
    "        print('Date should be in format \"DD.MM.YYYY\"')\n",
    "        return False\n",
    "    \n",
    "    year   = int(date_list[2])\n",
    "    month  = int(date_list[1])\n",
    "    day    = int(date_list[0])\n",
    "    \n",
    "    DateIsCorrect = None\n",
    "    try:                            # если что-то пойдет не так - значит не тот формат или не те данные\n",
    "        newDate = datetime.datetime(year, month, day)\n",
    "        DateIsCorrect = True\n",
    "    except ValueError:\n",
    "        DateIsCorrect = False\n",
    "        \n",
    "    return DateIsCorrect\n",
    "\n",
    "print(checkDateValidity('29.02.2000'))  # True\n",
    "print(checkDateValidity('29.02.2001'))  # False\n",
    "print(checkDateValidity('31.04.1962'))  # False"
   ]
  },
  {
   "cell_type": "markdown",
   "id": "2d77053e",
   "metadata": {},
   "source": [
    "## Задание 3: Проверка на простое число\n",
    "\n",
    "Функция проверки на простое число. Простые числа – это такие числа, которые делятся на себя и на единицу.\n",
    "\n",
    "<br>\n",
    "\n",
    "**Примеры:**\n",
    "* `17 -> True`\n",
    "* `20 -> False`\n",
    "* `23 -> True`"
   ]
  },
  {
   "cell_type": "code",
   "execution_count": null,
   "id": "c20728f6",
   "metadata": {},
   "outputs": [
    {
     "name": "stdout",
     "output_type": "stream",
     "text": [
      "True\n",
      "False\n",
      "False\n"
     ]
    }
   ],
   "source": [
    "def simpleNumber(num: int) -> bool:\n",
    "    if num <= 1:\n",
    "        return False\n",
    "    \n",
    "    for i in range(2, num): # TODO: N+1 сложность, в лоб\n",
    "        if num % i == 0:\n",
    "            return False  # остаток от деления 0 - значит на что-то еще делится без остатка - не простое\n",
    "    return True  \n",
    "\n",
    "print(simpleNumber(17)) # True\n",
    "print(simpleNumber(20)) # False\n",
    "print(simpleNumber(1)) # False"
   ]
  },
  {
   "cell_type": "markdown",
   "id": "29703efe",
   "metadata": {},
   "source": [
    "## Задание 4: Учет пользователей\n",
    "\n",
    "Пользователь в бесконечном цикле вводит данные пользователей: имя, затем фамилию, возраст и ID. Ввод продолжается до тех пор, пока не будет введено пустое поле. \n",
    "\n",
    "Пользователи заносятся в словарь, где ключ это ID пользователя, а остальные данные записываются в виде кортежа. \n",
    "\n",
    "**Программа должна проверять:**\n",
    "* имя и фамилия состоят только из символов и начинаются с большой буквы - если не с большой, то заменяет букву на большую;\n",
    "* возраст должен быть числом от 18 до 60;\n",
    "* ID - целое число, дополненное до 8 знаков незначащими нулями, ID должен быть уникальным.\n",
    "\n",
    "**Дополнительно:** написать функцию, которая будет выводить полученный словарь в виде таблицы."
   ]
  },
  {
   "cell_type": "code",
   "execution_count": 4,
   "id": "54d1f971",
   "metadata": {},
   "outputs": [
    {
     "name": "stdout",
     "output_type": "stream",
     "text": [
      "ID\tName\tSurname\tAge\n",
      "----------------------------------------\n",
      "00000001\tVasiliy\tPetrov\t25\n",
      "00000010\tEvgeniy\tMakarenko\t33\n",
      "00000012\tDmitrii\tIvanov\t35\n"
     ]
    }
   ],
   "source": [
    "def inputUser():\n",
    "    \n",
    "    results = {}\n",
    "    \n",
    "    while True:\n",
    "        record = input(\"Enter 'Name' 'Surname' 'Age' 'ID':\")\n",
    "        if not record:\n",
    "            break\n",
    "        raw_str = record.split()    # предполагаю, что формат жесткий, его не проверяю\n",
    "        \n",
    "        if len(raw_str) != 4:\n",
    "            print(\"Incorrect format..\")\n",
    "            continue\n",
    "        \n",
    "        name        = str(raw_str[0]).strip().capitalize()\n",
    "        surname     = str(raw_str[1]).strip().capitalize()\n",
    "        age         = int(raw_str[2])       \n",
    "        id          = str(raw_str[3])    \n",
    "        \n",
    "        if (age > 60) or (age < 18):\n",
    "            print('Age should be between 18 and 60')   \n",
    "            continue\n",
    "        \n",
    "        for i in range(8 - len(id)):    # дополнение id до 8 символов нулями слева\n",
    "            id = \"0\" + id\n",
    "        \n",
    "        old_value = results.get(id)\n",
    "        if old_value:\n",
    "            print('Key should be unique!')\n",
    "            continue\n",
    "        \n",
    "        results.setdefault(id, (name, surname, age))        # данные хранятся в виде кортежей\n",
    "\n",
    "    return results     \n",
    "\n",
    "results = inputUser()\n",
    "\n",
    "print(\"ID\\tName\\tSurname\\tAge\")\n",
    "print(\"-\"*40)\n",
    "for id, person in results.items():\n",
    "\n",
    "    name    = person[0]\n",
    "    surname = person[1]\n",
    "    age     = person[2]\n",
    "    \n",
    "    print(f\"{id}\\t{name}\\t{surname}\\t{age}\")"
   ]
  }
 ],
 "metadata": {
  "kernelspec": {
   "display_name": "base",
   "language": "python",
   "name": "python3"
  },
  "language_info": {
   "codemirror_mode": {
    "name": "ipython",
    "version": 3
   },
   "file_extension": ".py",
   "mimetype": "text/x-python",
   "name": "python",
   "nbconvert_exporter": "python",
   "pygments_lexer": "ipython3",
   "version": "3.13.5"
  }
 },
 "nbformat": 4,
 "nbformat_minor": 5
}
