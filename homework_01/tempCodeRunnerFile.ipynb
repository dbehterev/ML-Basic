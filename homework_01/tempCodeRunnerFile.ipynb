width = int(input("Enter width: "))  # 4
height = int(input("Enter height: ")) # 5
dolki = int(input("Input count of slices:")) # 12

if dolki < width*height and (dolki % width == 0 or dolki % height == 0):
    print(True)
else:
    print(False)