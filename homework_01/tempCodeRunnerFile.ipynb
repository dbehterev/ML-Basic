num5 = float(input("Input number: ")) #-5.6
num5_str = str(num5)
existing_of_dot = num5_str.find(".")
count_dots = num5_str.count(".")

if num5_str.find("0") == -1 and num5_str.find("1") == -1 and num5_str.find("2") == -1 and num5_str.find("3") == -1 and num5_str.find("4") == -1 and num5_str.find("5") == -1 and num5_str.find("6") == -1 and num5_str.find("7") == -1 and num5_str.find("8") == -1 and num5_str.find("9") == -1:
    print('not float')
elif count_dots > 1:
    print('not float') 
else:
    try:
        num5 % 1
        if num5_str[0] == '-':
            print('Negative float')
        else:
            print('FLOAT')
    except:
        print("not float")