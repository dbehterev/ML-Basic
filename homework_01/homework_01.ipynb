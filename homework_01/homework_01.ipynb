{
 "cells": [
  {
   "cell_type": "markdown",
   "id": "8955a739",
   "metadata": {},
   "source": [
    "# Домашнее задание: Базовые типы данных\n",
    "\n"
   ]
  },
  {
   "cell_type": "markdown",
   "id": "d4e67b86",
   "metadata": {},
   "source": [
    "## Задание 1: Зеркальное отражение цифр\n",
    "\n",
    "Пользователь вводит пятизначное число. Программа должна зеркально отразить три центральные цифры. Первая и последняя остаются на местах.\n",
    "\n",
    "<br>\n",
    "\n",
    "**Примеры:**\n",
    "* `23456 -> 25436`\n",
    "* `30789 -> 38709`"
   ]
  },
  {
   "cell_type": "code",
   "execution_count": 1,
   "id": "edf839ef",
   "metadata": {},
   "outputs": [
    {
     "name": "stdout",
     "output_type": "stream",
     "text": [
      "28655\n"
     ]
    }
   ],
   "source": [
    "num1 = str(input('enter 5 digit lenght:'))[0:5] # 30789    # число всегда пятизначное\n",
    "\n",
    "num1_new = num1[0] + num1[3] + num1[2] + num1[1] + num1[4] # т.к. число всегда пятизначное\n",
    "\n",
    "print(num1_new)"
   ]
  },
  {
   "cell_type": "markdown",
   "id": "00b9578b",
   "metadata": {},
   "source": [
    "## Задание 2: Подсчет выходных до отпуска\n",
    "\n",
    "Пользователь вводит сколько дней осталось до ближайшего отпуска. Программа должна вывести количество выходных дней до отпуска, если учесть, что выходные это суббота и воскресенье, сегодня понедельник и праздники мы не учитываем.  \n",
    "\n",
    "<br>\n",
    "\n",
    "**Примеры:**\n",
    "* `4  -> 0`\n",
    "* `6  -> 1`\n",
    "* `14 -> 4`"
   ]
  },
  {
   "cell_type": "code",
   "execution_count": 3,
   "id": "07154103",
   "metadata": {},
   "outputs": [
    {
     "name": "stdout",
     "output_type": "stream",
     "text": [
      "3\n"
     ]
    }
   ],
   "source": [
    "import math\n",
    "num2 = int(input('enter number: '))\n",
    "kolvo_rabochih_dney_v_nedele = 5\n",
    "kolvo_polnyh_nedel = int(math.floor(num2 / 7))\n",
    "kolvo_vyhodnyh_v_polnoy_nedele = kolvo_polnyh_nedel * 2\n",
    "ostatok_dney_dlya_rascheta = num2 - kolvo_polnyh_nedel * 7\n",
    "ostatok_kolvo_vyhodnyh = 0\n",
    "resultat = kolvo_vyhodnyh_v_polnoy_nedele\n",
    "if (ostatok_dney_dlya_rascheta - 5) <= 0:\n",
    "    print(resultat)\n",
    "else:\n",
    "    ostatok_vyhodnyh = 7 - ostatok_dney_dlya_rascheta\n",
    "    resultat = resultat + ostatok_vyhodnyh\n",
    "    print(resultat)"
   ]
  },
  {
   "cell_type": "markdown",
   "id": "cdde282c",
   "metadata": {},
   "source": [
    "## Задание 3: Плитка шоколада\n",
    "\n",
    "Пользователь вводит длину и ширину плитки шоколада, а также размер куска, который хочет отломить. Программа должна вычислить - можно ли совершить подобный разлом или нет, если учесть, что ломать можно только по прямой.\n",
    "\n",
    "<br>\n",
    "\n",
    "**Примеры:**\n",
    "* `3, 4, 6  -> True`\n",
    "* `5, 7, 8  -> False`\n",
    "* `4, 5, 12 -> True`"
   ]
  },
  {
   "cell_type": "code",
   "execution_count": 4,
   "id": "70f3324c",
   "metadata": {},
   "outputs": [
    {
     "name": "stdout",
     "output_type": "stream",
     "text": [
      "False\n"
     ]
    }
   ],
   "source": [
    "width = int(input(\"Enter width: \"))  # 4\n",
    "height = int(input(\"Enter height: \")) # 5\n",
    "dolki = int(input(\"Input count of slices:\")) # 12\n",
    "\n",
    "if dolki < width*height and (dolki % width == 0 or dolki % height == 0):\n",
    "    print(True)\n",
    "else:\n",
    "    print(False)"
   ]
  },
  {
   "cell_type": "markdown",
   "id": "6470efc1",
   "metadata": {},
   "source": [
    "## Задание 4: Римские числа\n",
    "\n",
    "Пользователь вводит целое положительное число, программа должна вернуть строку в виде римского числа.\n",
    "\n",
    "<br>\n",
    "\n",
    "**Примеры:**\n",
    "* `3   -> III`\n",
    "* `15  -> XV`\n",
    "* `234 -> CCXXXIV`"
   ]
  },
  {
   "cell_type": "code",
   "execution_count": 5,
   "id": "8686127c",
   "metadata": {},
   "outputs": [
    {
     "name": "stdout",
     "output_type": "stream",
     "text": [
      "DCCCXVIII\n"
     ]
    }
   ],
   "source": [
    "cifra = int(input(\"Enter 10-based number: \")) #818\n",
    "result = ''\n",
    "\n",
    "kolvo_1000 = cifra // 1000\n",
    "if kolvo_1000 > 0:\n",
    "    result = \"M\" * kolvo_1000\n",
    "\n",
    "cifra -= kolvo_1000 * 1000\n",
    "\n",
    "kolvo_100 = cifra // 100\n",
    "if kolvo_100 == 9:\n",
    "    result += \"CM\"\n",
    "elif kolvo_100 >= 5:\n",
    "    result += \"D\" + \"C\"*(kolvo_100 - 5)\n",
    "elif kolvo_100 == 4:\n",
    "    result += \"CD\"\n",
    "elif kolvo_100 >= 1:\n",
    "    result += \"C\" * kolvo_100\n",
    "    \n",
    "cifra -=kolvo_100 * 100\n",
    "\n",
    "kolvo_10 = cifra // 10\n",
    "if kolvo_10 == 9:\n",
    "    result += \"XC\"\n",
    "elif kolvo_10 >= 5:\n",
    "    result += \"L\" + \"X\" * (kolvo_10 - 5)\n",
    "elif kolvo_10 == 4:\n",
    "    result += \"XL\"\n",
    "elif kolvo_10 >= 1:\n",
    "    result += \"X\" * kolvo_10\n",
    "    \n",
    "cifra -=kolvo_10 * 10\n",
    "\n",
    "kolvo_1 = cifra % 10\n",
    "if kolvo_1 == 9:\n",
    "    result += \"IX\"\n",
    "elif kolvo_1 >= 5:\n",
    "    result += \"V\" + \"I\" * (kolvo_1 - 5)\n",
    "elif kolvo_1 == 4:\n",
    "    result += \"IV\"\n",
    "else:\n",
    "    result += \"I\" * kolvo_1\n",
    "\n",
    "print(result)"
   ]
  },
  {
   "cell_type": "markdown",
   "id": "ca6a4c0a",
   "metadata": {},
   "source": [
    "## Задание 5: Проверка на вещественное число\n",
    "\n",
    "Пользователь вводит данные, проверить - являются ли они положительным вещественным числом. Не использовать встроенные функции для проверки, только методы данных и конструкцию IF. (Дополнительное задание, по желанию - проверка на отрицательные вещественные числа)\n",
    "\n",
    "<br>\n",
    "\n",
    "**Примеры:**\n",
    "* `5.6  -> True`\n",
    "* `.78  -> True`\n",
    "* `.67. -> False`\n",
    "* `5    -> True`"
   ]
  },
  {
   "cell_type": "code",
   "execution_count": 6,
   "id": "74e39179",
   "metadata": {},
   "outputs": [
    {
     "name": "stdout",
     "output_type": "stream",
     "text": [
      "FLOAT\n"
     ]
    }
   ],
   "source": [
    "num5 = float(input(\"Input number: \")) #-5.6\n",
    "num5_str = str(num5)\n",
    "existing_of_dot = num5_str.find(\".\")\n",
    "count_dots = num5_str.count(\".\")\n",
    "\n",
    "if num5_str.find(\"0\") == -1 and num5_str.find(\"1\") == -1 and num5_str.find(\"2\") == -1 and num5_str.find(\"3\") == -1 and num5_str.find(\"4\") == -1 and num5_str.find(\"5\") == -1 and num5_str.find(\"6\") == -1 and num5_str.find(\"7\") == -1 and num5_str.find(\"8\") == -1 and num5_str.find(\"9\") == -1:\n",
    "    print('not float')\n",
    "elif count_dots > 1:\n",
    "    print('not float') \n",
    "else:\n",
    "    try:\n",
    "        num5 % 1\n",
    "        if num5_str[0] == '-':\n",
    "            print('Negative float')\n",
    "        else:\n",
    "            print('FLOAT')\n",
    "    except:\n",
    "        print(\"not float\")"
   ]
  }
 ],
 "metadata": {
  "kernelspec": {
   "display_name": "base",
   "language": "python",
   "name": "python3"
  },
  "language_info": {
   "codemirror_mode": {
    "name": "ipython",
    "version": 3
   },
   "file_extension": ".py",
   "mimetype": "text/x-python",
   "name": "python",
   "nbconvert_exporter": "python",
   "pygments_lexer": "ipython3",
   "version": "3.13.5"
  }
 },
 "nbformat": 4,
 "nbformat_minor": 5
}
