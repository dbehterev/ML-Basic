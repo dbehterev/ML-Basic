{
 "cells": [
  {
   "cell_type": "markdown",
   "id": "a2c501e6",
   "metadata": {},
   "source": [
    "# Домашнее задание: Управляющие конструкции"
   ]
  },
  {
   "cell_type": "markdown",
   "id": "3e4cac4a",
   "metadata": {},
   "source": [
    "## Задание 1: Получение однозначного числа\n",
    "\n",
    "Пользователь вводит целое число, программа складывает все цифры числа, с полученным числом — то же самое, и так до тех пор, пока не получится однозначное число.\n",
    "\n",
    "<br>\n",
    "\n",
    "**Примеры:**\n",
    "* `545   -> 5`\n",
    "* `12345 -> 6`"
   ]
  },
  {
   "cell_type": "code",
   "execution_count": null,
   "id": "344e919f",
   "metadata": {},
   "outputs": [
    {
     "name": "stdout",
     "output_type": "stream",
     "text": [
      "6\n"
     ]
    }
   ],
   "source": [
    "num = int(input(\"Enter int. number: \"))   \n",
    "result = 0\n",
    "\n",
    "if len(str(num)) == 0:\n",
    "    print(\"Enter one or more digits..\")\n",
    "elif num < 0:\n",
    "    print(\"Number must be positive\")\n",
    "else:\n",
    "    num = str(num)\n",
    "    for i in range(len(num)):\n",
    "        result += int(num[i])\n",
    "        if (result >= 10):\n",
    "            # нужно вычесть из результата текущее число\n",
    "            result -= int(num[i])\n",
    "            break\n",
    "\n",
    "print(result)"
   ]
  },
  {
   "cell_type": "markdown",
   "id": "45527a4a",
   "metadata": {},
   "source": [
    "## Задание 2: Кинотеатр\n",
    "\n",
    "Дан список списков, каждый вложенный список состоит из 1 и 0, количество вложенных списков — количество рядов. Пользователь вводит, сколько билетов ему требуется. Программа должна найти ряд, где можно приобрести нужное количество билетов (места должны быть рядом). Если таких рядов несколько, то ближайший к экрану (ближайшим считается нулевой ряд). Если таких мест нет, то вывести False.\n",
    "\n",
    "<br>\n",
    "\n",
    "**Примеры:**\n",
    "* `[[0,1,1,0], [1,0,0,0], [0,1,0,0]], 2 -> 1`\n",
    "* `[[0,1,1,0], [1,0,1,0], [1,1,0,1]], 2 -> False`"
   ]
  },
  {
   "cell_type": "code",
   "execution_count": 2,
   "id": "3a29082d",
   "metadata": {},
   "outputs": [
    {
     "name": "stdout",
     "output_type": "stream",
     "text": [
      "3\n"
     ]
    }
   ],
   "source": [
    "tickets_number = int(input(\"Enter ticket number: \"))\n",
    "cinema_rows = [[0,1,1,0], [1,0,1,0], [1,1,0,1], [1,0,0,1]]\n",
    "success_flag = False                        # признак что все забронировали\n",
    "booked_row = -1                             # в каком ряду забронировали\n",
    "row_number = 0                              # текущий номер ряда\n",
    "\n",
    "for row in cinema_rows:\n",
    "    if success_flag:\n",
    "        break\n",
    "    \n",
    "    booked_tickets_number = tickets_number  # счетчик, сколько удалось забронировать билетов подряд в данном ряду\n",
    "     \n",
    "    for seat in row:\n",
    "        # print(seat)\n",
    "        if (booked_tickets_number == 0):\n",
    "            booked_row = row_number\n",
    "            success_flag = True\n",
    "            break   # все забронировали\n",
    "        elif seat == 1:\n",
    "            booked_tickets_number = tickets_number  # место занято, значит инициируем процесс бронирования заново\n",
    "        elif seat == 0: # and not start_booking_flag:    # если место свободно и еще не начали бронировать\n",
    "            booked_tickets_number -= 1\n",
    "    \n",
    "    row_number += 1    \n",
    "            \n",
    "if (success_flag):\n",
    "    print(booked_row)\n",
    "else:\n",
    "    print(False)"
   ]
  },
  {
   "cell_type": "markdown",
   "id": "7b7f098c",
   "metadata": {},
   "source": [
    "## Задание 3: Алгоритм RLE\n",
    "\n",
    "Необходимо написать упрощенную версию алгоритма RLE. \n",
    "Алгоритм RLE объединяет подряд идущие символы в коэффициент и символ.\n",
    "\n",
    "<br>\n",
    "\n",
    "**Примеры:**\n",
    "* `asssdddsssddd -> 1a3s3d3s3d`\n",
    "* `aaabbbbccccc  -> 3a4b5c`\n",
    "* `abcba         -> 1a1b1c1b1a`"
   ]
  },
  {
   "cell_type": "code",
   "execution_count": 3,
   "id": "e0d30ec2",
   "metadata": {},
   "outputs": [
    {
     "name": "stdout",
     "output_type": "stream",
     "text": [
      "3a4b5c\n"
     ]
    }
   ],
   "source": [
    "template = str(input(\"Enter template: \"))   # \"abcba\"\n",
    "current_letter = \"\"\n",
    "current_letter_count = 0\n",
    "result = \"\"             # сюда будем накапливать результат\n",
    "intermediate_result = \"\"    # промежуточный результат\n",
    "\n",
    "for i in range(len(template)):\n",
    "    current_letter = template[i]\n",
    "\n",
    "    if i > 0:\n",
    "        # сравним с предыдущей буквой\n",
    "        if current_letter == template[i-1]:\n",
    "            current_letter_count += 1  # сопдадает? увеличим счетчик\n",
    "            intermediate_result = str(current_letter_count) + current_letter\n",
    "        else:\n",
    "            result += intermediate_result\n",
    "            current_letter_count = 1\n",
    "            intermediate_result = str(current_letter_count) + current_letter\n",
    "    else:\n",
    "        current_letter_count = 1   \n",
    "        intermediate_result = str(current_letter_count) + current_letter\n",
    "\n",
    "result += intermediate_result\n",
    "    \n",
    "print(result)"
   ]
  },
  {
   "cell_type": "markdown",
   "id": "f24d5e58",
   "metadata": {},
   "source": [
    "## Задание 4: Шифр Цезаря\n",
    "\n",
    "Реализуйте программу для шифрования текста с помощью шифра Цезаря.  \n",
    "Шифр Цезаря — это метод шифрования, при котором каждая буква в тексте заменяется буквой, стоящей на фиксированное число позиций дальше в алфавите.\n",
    "\n",
    "### Требования\n",
    "1. Программа должна принимать на вход:\n",
    "   - Строку текста для шифрования\n",
    "   - Ключ шифра (число от 0 до 25)\n",
    "\n",
    "2. Правила шифрования:\n",
    "   - Шифруются только латинские буквы (a-z, A-Z)\n",
    "   - Сохраняется регистр букв (заглавные остаются заглавными)\n",
    "   - Пробелы, цифры и знаки препинания остаются без изменений\n",
    "   - Сдвиг циклический (после 'z' идет 'a', после 'Z' идет 'A')\n",
    "\n",
    "### Примеры\n",
    "\n",
    "* `\"Hello World\", 3      -> \"Khoor Zruog\"`\n",
    "* `\"Python is great!\", 5 -> \"Udymts nx lwjfy!\"`\n",
    "* `\"XYZ abc\", 3          -> \"ABC def\"`\n",
    "* `\"Test 123\", 1         -> \"Uftu 123\"`\n",
    "\n",
    "### Алгоритм\n",
    "* Для каждого символа в строке:\n",
    "   - Если это латинская буква, найти её позицию в алфавите\n",
    "   - Добавить к позиции значение ключа\n",
    "   - Если результат больше 25, использовать остаток от деления на 26\n",
    "   - Преобразовать обратно в букву, сохранив регистр\n",
    "   - Если это не буква, оставить символ без изменений\n"
   ]
  },
  {
   "cell_type": "code",
   "execution_count": 5,
   "id": "6a075d20",
   "metadata": {},
   "outputs": [
    {
     "name": "stdout",
     "output_type": "stream",
     "text": [
      "Udymts nx lwjfy!\n"
     ]
    }
   ],
   "source": [
    "txt = input(\"Input text: \")        \n",
    "shift = int(input(\"Enter shift: \"))   \n",
    "ciphered = \"\"\n",
    "\n",
    "for letter in txt:\n",
    "    letter.isalpha()\n",
    "    if not letter.isalpha():\n",
    "        ciphered += letter\n",
    "    if letter.islower():\n",
    "        if ord(letter) + shift > 122:   # кодировка последней строчной буквы в латинице\n",
    "            ciphered += chr(ord(letter) + shift - 26)\n",
    "        else:\n",
    "            ciphered += chr(ord(letter) + shift)\n",
    "    elif letter.isupper():\n",
    "        if ord(letter) + shift > 90:    # кодировка последней заглавной буквы в латинице\n",
    "            ciphered += chr(ord(letter) + shift - 26)\n",
    "        else:\n",
    "            ciphered += chr(ord(letter) + shift)\n",
    "\n",
    "print(ciphered)"
   ]
  },
  {
   "cell_type": "markdown",
   "id": "c88bf52c",
   "metadata": {},
   "source": [
    "## Задание 5: Табель успеваемости\n",
    "\n",
    "Пользователь в бесконечном цикле (пока не будет введена пустая строка) вводит строки вида: 'название предмета' 'фамилия ученика' 'оценка'. После окончания ввода программа выводит в консоль название предмета, далее список учеников и все их оценки в виде таблицы.\n",
    "\n",
    "<br>\n",
    "\n",
    "**Примеры:**\n",
    "\n",
    "<br>\n",
    "\n",
    "*Ввод:*\n",
    "```python\n",
    "Математика Иванов  5\n",
    "Математика Иванов  4\n",
    "Литература Иванов  3\n",
    "Математика Петров  5\n",
    "Литература Сидоров 3\n",
    "Литература Петров  5\n",
    "Литература Иванов  4\n",
    "Математика Сидоров 3\n",
    "Математика Петров  5\n",
    "```\n",
    "\n",
    "<br>\n",
    "\n",
    "*Результат:*\n",
    "```python\n",
    "Математика # вводим название предмета\n",
    "\n",
    "# выводим список учеников и их оценки\n",
    "Иванов  5 4\n",
    "Петров  5 5\n",
    "Сидоров 3\n",
    "```\n",
    "\n",
    "```python\n",
    "Литература # вводим название предмета\n",
    "\n",
    "# выводим список учеников и их оценки\n",
    "Иванов  3 4\n",
    "Сидоров 3\n",
    "Петров  5\n",
    "```"
   ]
  },
  {
   "cell_type": "code",
   "execution_count": 6,
   "id": "196f6ff4",
   "metadata": {},
   "outputs": [
    {
     "name": "stdout",
     "output_type": "stream",
     "text": [
      "\n",
      "Math\n",
      "\n",
      "Petrov\t 5 3\n",
      "Sidorov\t 4 3\n",
      "\n",
      "Literature\n",
      "\n",
      "Petrov\t 3\n",
      "Sidorov\t 5\n"
     ]
    }
   ],
   "source": [
    "results = {}\n",
    "\n",
    "# setdefault(key, default) - возвращает значение ключа если задан, иначе добавляет ключ с заданным значение по-умолчанию\n",
    "# update(iterable) - обновляет словарь по ключу:значению из другого словаря\n",
    "# get(key, default) - получить значение по ключу. Если ключ не найден,то возвращается default\n",
    "# append(item) - добавить элемент в конец списка\n",
    "\n",
    "while True:\n",
    "    record = input(\"Enter 'subject' 'name' 'score':\")\n",
    "    if not record:\n",
    "        break\n",
    "    raw_str = record.split()    # предполагаю, что формат жесткий, его не проверяю\n",
    "    \n",
    "    if len(raw_str) != 3:\n",
    "        print(\"Incorrect format..\")\n",
    "        continue\n",
    "    \n",
    "    # TODO: try .. catch .. finally\n",
    "    subject = str(raw_str[0]).strip()\n",
    "    name    = str(raw_str[1]).strip()\n",
    "    score   = int(raw_str[2])       \n",
    "    \n",
    "    results.setdefault(subject, {})                    # задаем ключ с пустой вложенной директории (если ее нет еще)\n",
    "    \n",
    "    appended_score = results[subject].get(name, [])   # пытаемся получить оценку, если ее нет еще, то 0\n",
    "    appended_score.append(score)\n",
    "    \n",
    "    results[subject].update({ \n",
    "                            name: appended_score \n",
    "                         })\n",
    "\n",
    "for subject, students in results.items():\n",
    "    print(\"\\n\" + subject + \"\\n\")\n",
    "    \n",
    "    for student in students:\n",
    "        print(student + \"\\t\", \" \".join(str(x) for x in students[student]))"
   ]
  }
 ],
 "metadata": {
  "kernelspec": {
   "display_name": "base",
   "language": "python",
   "name": "python3"
  },
  "language_info": {
   "codemirror_mode": {
    "name": "ipython",
    "version": 3
   },
   "file_extension": ".py",
   "mimetype": "text/x-python",
   "name": "python",
   "nbconvert_exporter": "python",
   "pygments_lexer": "ipython3",
   "version": "3.13.5"
  }
 },
 "nbformat": 4,
 "nbformat_minor": 5
}
